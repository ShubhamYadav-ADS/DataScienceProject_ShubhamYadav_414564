{
 "cells": [
  {
   "cell_type": "code",
   "execution_count": 1,
   "metadata": {},
   "outputs": [
    {
     "name": "stderr",
     "output_type": "stream",
     "text": [
      "In E:\\Python2020\\lib\\site-packages\\matplotlib\\mpl-data\\stylelib\\_classic_test.mplstyle: \n",
      "The text.latex.preview rcparam was deprecated in Matplotlib 3.3 and will be removed two minor releases later.\n",
      "In E:\\Python2020\\lib\\site-packages\\matplotlib\\mpl-data\\stylelib\\_classic_test.mplstyle: \n",
      "The mathtext.fallback_to_cm rcparam was deprecated in Matplotlib 3.3 and will be removed two minor releases later.\n",
      "In E:\\Python2020\\lib\\site-packages\\matplotlib\\mpl-data\\stylelib\\_classic_test.mplstyle: Support for setting the 'mathtext.fallback_to_cm' rcParam is deprecated since 3.3 and will be removed two minor releases later; use 'mathtext.fallback : 'cm' instead.\n",
      "In E:\\Python2020\\lib\\site-packages\\matplotlib\\mpl-data\\stylelib\\_classic_test.mplstyle: \n",
      "The validate_bool_maybe_none function was deprecated in Matplotlib 3.3 and will be removed two minor releases later.\n",
      "In E:\\Python2020\\lib\\site-packages\\matplotlib\\mpl-data\\stylelib\\_classic_test.mplstyle: \n",
      "The savefig.jpeg_quality rcparam was deprecated in Matplotlib 3.3 and will be removed two minor releases later.\n",
      "In E:\\Python2020\\lib\\site-packages\\matplotlib\\mpl-data\\stylelib\\_classic_test.mplstyle: \n",
      "The keymap.all_axes rcparam was deprecated in Matplotlib 3.3 and will be removed two minor releases later.\n",
      "In E:\\Python2020\\lib\\site-packages\\matplotlib\\mpl-data\\stylelib\\_classic_test.mplstyle: \n",
      "The animation.avconv_path rcparam was deprecated in Matplotlib 3.3 and will be removed two minor releases later.\n",
      "In E:\\Python2020\\lib\\site-packages\\matplotlib\\mpl-data\\stylelib\\_classic_test.mplstyle: \n",
      "The animation.avconv_args rcparam was deprecated in Matplotlib 3.3 and will be removed two minor releases later.\n"
     ]
    }
   ],
   "source": [
    "import pandas as pd\n",
    "import numpy as np\n",
    "import random\n",
    "from datetime import datetime\n",
    "import pandas as pd \n",
    "\n",
    "from scipy import optimize\n",
    "from scipy import integrate\n",
    "import plotly.graph_objects as go\n",
    "\n",
    "%matplotlib inline\n",
    "import matplotlib as mpl\n",
    "import matplotlib.pyplot as plt\n",
    "\n",
    "import seaborn as sns\n",
    "import dash\n",
    "import dash_core_components as dcc\n",
    "import dash_html_components as html\n",
    "from dash.dependencies import Input, Output,State\n",
    "\n",
    "\n",
    "\n",
    "sns.set(style=\"darkgrid\")\n",
    "\n",
    "mpl.rcParams['figure.figsize'] = (16, 9)\n",
    "pd.set_option('display.max_rows', 500)"
   ]
  },
  {
   "cell_type": "code",
   "execution_count": 2,
   "metadata": {},
   "outputs": [
    {
     "data": {
      "text/html": [
       "<div>\n",
       "<style scoped>\n",
       "    .dataframe tbody tr th:only-of-type {\n",
       "        vertical-align: middle;\n",
       "    }\n",
       "\n",
       "    .dataframe tbody tr th {\n",
       "        vertical-align: top;\n",
       "    }\n",
       "\n",
       "    .dataframe thead th {\n",
       "        text-align: right;\n",
       "    }\n",
       "</style>\n",
       "<table border=\"1\" class=\"dataframe\">\n",
       "  <thead>\n",
       "    <tr style=\"text-align: right;\">\n",
       "      <th></th>\n",
       "      <th>date</th>\n",
       "      <th>Italy</th>\n",
       "      <th>US</th>\n",
       "      <th>India</th>\n",
       "      <th>Germany</th>\n",
       "      <th>Korea, South</th>\n",
       "    </tr>\n",
       "  </thead>\n",
       "  <tbody>\n",
       "    <tr>\n",
       "      <td>0</td>\n",
       "      <td>2020-01-22</td>\n",
       "      <td>0</td>\n",
       "      <td>1</td>\n",
       "      <td>0</td>\n",
       "      <td>0</td>\n",
       "      <td>1</td>\n",
       "    </tr>\n",
       "    <tr>\n",
       "      <td>1</td>\n",
       "      <td>2020-01-23</td>\n",
       "      <td>0</td>\n",
       "      <td>1</td>\n",
       "      <td>0</td>\n",
       "      <td>0</td>\n",
       "      <td>1</td>\n",
       "    </tr>\n",
       "    <tr>\n",
       "      <td>2</td>\n",
       "      <td>2020-01-24</td>\n",
       "      <td>0</td>\n",
       "      <td>2</td>\n",
       "      <td>0</td>\n",
       "      <td>0</td>\n",
       "      <td>2</td>\n",
       "    </tr>\n",
       "    <tr>\n",
       "      <td>3</td>\n",
       "      <td>2020-01-25</td>\n",
       "      <td>0</td>\n",
       "      <td>2</td>\n",
       "      <td>0</td>\n",
       "      <td>0</td>\n",
       "      <td>2</td>\n",
       "    </tr>\n",
       "    <tr>\n",
       "      <td>4</td>\n",
       "      <td>2020-01-26</td>\n",
       "      <td>0</td>\n",
       "      <td>5</td>\n",
       "      <td>0</td>\n",
       "      <td>0</td>\n",
       "      <td>3</td>\n",
       "    </tr>\n",
       "  </tbody>\n",
       "</table>\n",
       "</div>"
      ],
      "text/plain": [
       "         date  Italy  US  India  Germany  Korea, South\n",
       "0  2020-01-22      0   1      0        0             1\n",
       "1  2020-01-23      0   1      0        0             1\n",
       "2  2020-01-24      0   2      0        0             2\n",
       "3  2020-01-25      0   2      0        0             2\n",
       "4  2020-01-26      0   5      0        0             3"
      ]
     },
     "execution_count": 2,
     "metadata": {},
     "output_type": "execute_result"
    }
   ],
   "source": [
    "# try to parse the dates right at the beginning \n",
    "# it works out of the box if the date was stored ISO YYYY-MM-DD format\n",
    "\n",
    "df_analyse=pd.read_csv('../data/processed/COVID_small_flat_table.csv',sep=';')  \n",
    "df_analyse.sort_values('date',ascending=True).head()"
   ]
  },
  {
   "cell_type": "code",
   "execution_count": 3,
   "metadata": {},
   "outputs": [],
   "source": [
    "\n",
    "# set some basic parameters\n",
    "# beta/gamma is denoted as  'basic reproduction number'\n",
    "\n",
    "N0=1000000 #max susceptible population\n",
    "beta=0.4   # infection spread dynamics\n",
    "gamma=0.1  # recovery rate\n",
    "\n",
    "\n",
    "# condition I0+S0+R0=N0\n",
    "I0=df_analyse.Germany[35]\n",
    "S0=N0-I0\n",
    "R0=0"
   ]
  },
  {
   "cell_type": "code",
   "execution_count": 4,
   "metadata": {},
   "outputs": [],
   "source": [
    "def SIR_model(SIR,beta,gamma):\n",
    "    ''' Simple SIR model\n",
    "        S: susceptible population\n",
    "        I: infected people\n",
    "        R: recovered people\n",
    "        beta: \n",
    "        \n",
    "        overall condition is that the sum of changes (differnces) sum up to 0\n",
    "        dS+dI+dR=0\n",
    "        S+I+R= N (constant size of population)\n",
    "    \n",
    "    '''\n",
    "    \n",
    "    S,I,R=SIR\n",
    "    dS_dt=-beta*S*I/N0          #S*I is the \n",
    "    dI_dt=beta*S*I/N0-gamma*I\n",
    "    dR_dt=gamma*I\n",
    "    return([dS_dt,dI_dt,dR_dt])"
   ]
  },
  {
   "cell_type": "markdown",
   "metadata": {},
   "source": [
    "# Simulative approach to calculate SIR curves"
   ]
  },
  {
   "cell_type": "code",
   "execution_count": 5,
   "metadata": {},
   "outputs": [],
   "source": [
    "SIR=np.array([S0,I0,R0])\n",
    "propagation_rates=pd.DataFrame(columns={'susceptible':S0,\n",
    "                                        'infected':I0,\n",
    "                                        'recoverd':R0})\n",
    "\n",
    "\n",
    "\n",
    "for each_t in np.arange(100):\n",
    "   \n",
    "    new_delta_vec=SIR_model(SIR,beta,gamma)\n",
    "   \n",
    "    SIR=SIR+new_delta_vec\n",
    "    \n",
    "    propagation_rates=propagation_rates.append({'susceptible':SIR[0],\n",
    "                                                'infected':SIR[1],\n",
    "                                                'recovered':SIR[2]}, ignore_index=True)"
   ]
  },
  {
   "cell_type": "code",
   "execution_count": 6,
   "metadata": {},
   "outputs": [
    {
     "data": {
      "image/png": "[encoded data removed]",
      "text/plain": [
       "<Figure size 432x288 with 1 Axes>"
      ]
     },
     "metadata": {
      "needs_background": "light"
     },
     "output_type": "display_data"
    }
   ],
   "source": [
    "fig, ax1 = plt.subplots(1, 1)\n",
    "\n",
    "ax1.plot(propagation_rates.index,propagation_rates.infected,label='infected',color='k')\n",
    "ax1.plot(propagation_rates.index,propagation_rates.recovered,label='recovered')\n",
    "ax1.plot(propagation_rates.index,propagation_rates.susceptible,label='susceptible')\n",
    "\n",
    "ax1.set_ylim(10, 1000000)\n",
    "ax1.set_yscale('linear')\n",
    "ax1.set_title('Szenario SIR simulations  (demonstration purposes only)',size=16)\n",
    "ax1.set_xlabel('time in days',size=16)\n",
    "ax1.legend(loc='best',\n",
    "           prop={'size': 16});"
   ]
  },
  {
   "cell_type": "markdown",
   "metadata": {},
   "source": [
    "# Fitting the parameters of SIR model"
   ]
  },
  {
   "cell_type": "code",
   "execution_count": 7,
   "metadata": {},
   "outputs": [],
   "source": [
    "ydata = np.array(df_analyse.Germany[35:])\n",
    "t=np.arange(len(ydata))"
   ]
  },
  {
   "cell_type": "code",
   "execution_count": 8,
   "metadata": {},
   "outputs": [
    {
     "data": {
      "text/plain": [
       "0.4"
      ]
     },
     "execution_count": 8,
     "metadata": {},
     "output_type": "execute_result"
    }
   ],
   "source": [
    "I0=ydata[0]\n",
    "S0=N0-I0\n",
    "R0=0\n",
    "beta"
   ]
  },
  {
   "cell_type": "code",
   "execution_count": 9,
   "metadata": {},
   "outputs": [],
   "source": [
    "def SIR_model_t(SIR,t,beta,gamma):\n",
    "    S,I,R=SIR\n",
    "    dS_dt=-beta*S*I/N0          \n",
    "    dI_dt=beta*S*I/N0-gamma*I\n",
    "    dR_dt=gamma*I\n",
    "    return dS_dt,dI_dt,dR_dt"
   ]
  },
  {
   "cell_type": "code",
   "execution_count": 10,
   "metadata": {},
   "outputs": [],
   "source": [
    "def fit_odeint(x, beta, gamma):\n",
    "    '''\n",
    "    helper function for the integration\n",
    "    '''\n",
    "    return integrate.odeint(SIR_model_t, (S0, I0, R0), t, args=(beta, gamma))[:,1] # we only would like to get dI"
   ]
  },
  {
   "cell_type": "code",
   "execution_count": 11,
   "metadata": {},
   "outputs": [
    {
     "data": {
      "text/plain": [
       "array([2.70000000e+01, 3.64457071e+01, 4.91956207e+01, 6.64053493e+01,\n",
       "       8.96344660e+01, 1.20987564e+02, 1.63304428e+02, 2.20416326e+02,\n",
       "       2.97491205e+02, 4.01498275e+02, 5.41832616e+02, 7.31153728e+02,\n",
       "       9.86509149e+02, 1.33083608e+03, 1.79496099e+03, 2.42024936e+03,\n",
       "       3.26209305e+03, 4.39445723e+03, 5.91573047e+03, 7.95611026e+03,\n",
       "       1.06866705e+04, 1.43300301e+04, 1.91720581e+04, 2.55731545e+04,\n",
       "       3.39761277e+04, 4.49053964e+04, 5.89492486e+04, 7.67139399e+04,\n",
       "       9.87375269e+04, 1.25356226e+05, 1.56531317e+05, 1.91671801e+05,\n",
       "       2.29519056e+05, 2.68172791e+05, 3.05306626e+05, 3.38543581e+05,\n",
       "       3.65876662e+05, 3.85989183e+05, 3.98379367e+05, 4.03287154e+05,\n",
       "       4.01494345e+05, 3.94088591e+05, 3.82258097e+05, 3.67146745e+05,\n",
       "       3.49770632e+05, 3.30982618e+05, 3.11468385e+05, 2.91760020e+05,\n",
       "       2.72257377e+05, 2.53251232e+05, 2.34945074e+05, 2.17474127e+05,\n",
       "       2.00921199e+05, 1.85329524e+05, 1.70712933e+05, 1.57063815e+05,\n",
       "       1.44359259e+05, 1.32565765e+05, 1.21642813e+05, 1.11545564e+05,\n",
       "       1.02226863e+05, 9.36387307e+04, 8.57334416e+04, 7.84642998e+04,\n",
       "       7.17861783e+04, 6.56558807e+04, 6.00323689e+04, 5.48768901e+04,\n",
       "       5.01530289e+04, 4.58267049e+04, 4.18661305e+04, 3.82417403e+04,\n",
       "       3.49261022e+04, 3.18938152e+04, 2.91214009e+04, 2.65871902e+04,\n",
       "       2.42712110e+04, 2.21550757e+04, 2.02218730e+04, 1.84560630e+04,\n",
       "       1.68433769e+04, 1.53707223e+04, 1.40260933e+04, 1.27984864e+04,\n",
       "       1.16778218e+04, 1.06548694e+04, 9.72118107e+03, 8.86902645e+03,\n",
       "       8.09133454e+03, 7.38163912e+03, 6.73402852e+03, 6.14309926e+03,\n",
       "       5.60391339e+03, 5.11195921e+03, 4.66311514e+03, 4.25361655e+03,\n",
       "       3.88002533e+03, 3.53920195e+03, 3.22827983e+03, 2.94464190e+03,\n",
       "       2.68589908e+03, 2.44987061e+03, 2.23456602e+03, 2.03816867e+03,\n",
       "       1.85902067e+03, 1.69560907e+03, 1.54655329e+03, 1.41059358e+03,\n",
       "       1.28658047e+03, 1.17346523e+03, 1.07029100e+03, 9.76184786e+02,\n",
       "       8.90350170e+02, 8.12060571e+02, 7.40653160e+02, 6.75523264e+02,\n",
       "       6.16119292e+02, 5.61938065e+02, 5.12520594e+02, 4.67448188e+02,\n",
       "       4.26338934e+02, 3.88844464e+02, 3.54647015e+02, 3.23456742e+02,\n",
       "       2.95009268e+02, 2.69063450e+02, 2.45399334e+02, 2.23816302e+02,\n",
       "       2.04131365e+02, 1.86177625e+02, 1.69802849e+02, 1.54868191e+02,\n",
       "       1.41247011e+02, 1.28823801e+02, 1.17493212e+02, 1.07159155e+02,\n",
       "       9.77339925e+01, 8.91377899e+01, 8.12976444e+01, 7.41470623e+01,\n",
       "       6.76253981e+01, 6.16773387e+01, 5.62524358e+01, 5.13046775e+01,\n",
       "       4.67920983e+01, 4.26764234e+01, 3.89227440e+01, 3.54992217e+01,\n",
       "       3.23768179e+01, 2.95290484e+01, 2.69317577e+01, 2.45629152e+01,\n",
       "       2.24024277e+01, 2.04319694e+01, 1.86348262e+01, 1.69957541e+01,\n",
       "       1.55008498e+01, 1.41374328e+01, 1.28939381e+01, 1.17598177e+01,\n",
       "       1.07254515e+01, 9.78206537e+00, 8.92165706e+00, 8.13692810e+00,\n",
       "       7.42122193e+00, 6.76846755e+00, 6.17312785e+00, 5.63015286e+00,\n",
       "       5.13493666e+00, 4.68327856e+00, 4.27134726e+00, 3.89564853e+00,\n",
       "       3.55299542e+00, 3.24048133e+00, 2.95545530e+00, 2.69549954e+00,\n",
       "       2.45840894e+00, 2.24217231e+00, 2.04495541e+00, 1.86508529e+00,\n",
       "       1.70103617e+00, 1.55141647e+00, 1.41495701e+00, 1.29050024e+00,\n",
       "       1.17699044e+00, 1.07346472e+00, 9.79044914e-01, 8.92930085e-01,\n",
       "       8.14389738e-01, 7.42757644e-01, 6.77426162e-01, 6.17841107e-01,\n",
       "       5.63497033e-01, 5.13932954e-01, 4.68728434e-01, 4.27500011e-01,\n",
       "       3.89897959e-01, 3.55603308e-01])"
      ]
     },
     "execution_count": 11,
     "metadata": {},
     "output_type": "execute_result"
    }
   ],
   "source": [
    "# example curve of our differential equationa\n",
    "popt=[0.4,0.1]\n",
    "fit_odeint(t, *popt)"
   ]
  },
  {
   "cell_type": "code",
   "execution_count": 12,
   "metadata": {},
   "outputs": [
    {
     "name": "stderr",
     "output_type": "stream",
     "text": [
      "E:\\Python2020\\lib\\site-packages\\ipykernel_launcher.py:3: RuntimeWarning: overflow encountered in double_scalars\n",
      "  This is separate from the ipykernel package so we can avoid doing imports until\n",
      "E:\\Python2020\\lib\\site-packages\\ipykernel_launcher.py:4: RuntimeWarning: overflow encountered in double_scalars\n",
      "  after removing the cwd from sys.path.\n",
      "E:\\Python2020\\lib\\site-packages\\scipy\\integrate\\odepack.py:247: ODEintWarning: Illegal input detected (internal error). Run with full_output = 1 to get quantitative information.\n",
      "  warnings.warn(warning_msg, ODEintWarning)\n",
      "E:\\Python2020\\lib\\site-packages\\scipy\\integrate\\odepack.py:247: ODEintWarning: Excess work done on this call (perhaps wrong Dfun type). Run with full_output = 1 to get quantitative information.\n",
      "  warnings.warn(warning_msg, ODEintWarning)\n",
      "E:\\Python2020\\lib\\site-packages\\ipykernel_launcher.py:5: RuntimeWarning: overflow encountered in double_scalars\n",
      "  \"\"\"\n"
     ]
    },
    {
     "name": "stdout",
     "output_type": "stream",
     "text": [
      "standard deviation errors :  [0.00218111 0.00196471]  start infect: 27\n",
      "Optimal parameters: beta = 0.1171223033740557  and gamma =  0.039922890127031305\n"
     ]
    }
   ],
   "source": [
    "popt, pcov = optimize.curve_fit(fit_odeint, t, ydata)\n",
    "perr = np.sqrt(np.diag(pcov))\n",
    "    \n",
    "print('standard deviation errors : ',str(perr), ' start infect:',ydata[0])\n",
    "print(\"Optimal parameters: beta =\", popt[0], \" and gamma = \", popt[1])"
   ]
  },
  {
   "cell_type": "code",
   "execution_count": 13,
   "metadata": {},
   "outputs": [],
   "source": [
    "# get the final fitted curve\n",
    "fitted=fit_odeint(t, *popt)"
   ]
  },
  {
   "cell_type": "code",
   "execution_count": 14,
   "metadata": {},
   "outputs": [
    {
     "data": {
      "image/png": "[encoded data removed]",
      "text/plain": [
       "<Figure size 432x288 with 1 Axes>"
      ]
     },
     "metadata": {
      "needs_background": "light"
     },
     "output_type": "display_data"
    },
    {
     "name": "stdout",
     "output_type": "stream",
     "text": [
      "Optimal parameters: beta = 0.1171223033740557  and gamma =  0.039922890127031305\n",
      "Basic Reproduction Number R0  2.9337130403480884\n",
      "This ratio is derived as the expected number of new infections (these new infections are sometimes called secondary infections from a single infection in a population where all subjects are susceptible. @wiki\n"
     ]
    }
   ],
   "source": [
    "plt.semilogy(t, ydata, 'o')\n",
    "plt.semilogy(t, fitted)\n",
    "plt.title(\"Fit of SIR model for Germany cases\")\n",
    "plt.ylabel(\"Population infected\")\n",
    "plt.xlabel(\"Days\")\n",
    "plt.show()\n",
    "print(\"Optimal parameters: beta =\", popt[0], \" and gamma = \", popt[1])\n",
    "print(\"Basic Reproduction Number R0 \" , popt[0]/ popt[1])\n",
    "print(\"This ratio is derived as the expected number of new infections (these new infections are sometimes called secondary infections from a single infection in a population where all subjects are susceptible. @wiki\")"
   ]
  },
  {
   "cell_type": "markdown",
   "metadata": {},
   "source": [
    "# Dynamic beta in SIR (infection rate)"
   ]
  },
  {
   "cell_type": "code",
   "execution_count": 15,
   "metadata": {},
   "outputs": [],
   "source": [
    "t_initial=28\n",
    "t_intro_measures=14\n",
    "t_hold=21\n",
    "t_relax=21\n",
    "\n",
    "beta_max=0.4\n",
    "beta_min=0.11\n",
    "gamma=0.1\n",
    "pd_beta=np.concatenate((np.array(t_initial*[beta_max]),\n",
    "                       np.linspace(beta_max,beta_min,t_intro_measures),\n",
    "                       np.array(t_hold*[beta_min]),\n",
    "                        np.linspace(beta_min,beta_max,t_relax),\n",
    "                       ))"
   ]
  },
  {
   "cell_type": "code",
   "execution_count": 16,
   "metadata": {},
   "outputs": [
    {
     "data": {
      "text/plain": [
       "array([0.4       , 0.4       , 0.4       , 0.4       , 0.4       ,\n",
       "       0.4       , 0.4       , 0.4       , 0.4       , 0.4       ,\n",
       "       0.4       , 0.4       , 0.4       , 0.4       , 0.4       ,\n",
       "       0.4       , 0.4       , 0.4       , 0.4       , 0.4       ,\n",
       "       0.4       , 0.4       , 0.4       , 0.4       , 0.4       ,\n",
       "       0.4       , 0.4       , 0.4       , 0.4       , 0.37769231,\n",
       "       0.35538462, 0.33307692, 0.31076923, 0.28846154, 0.26615385,\n",
       "       0.24384615, 0.22153846, 0.19923077, 0.17692308, 0.15461538,\n",
       "       0.13230769, 0.11      , 0.11      , 0.11      , 0.11      ,\n",
       "       0.11      , 0.11      , 0.11      , 0.11      , 0.11      ,\n",
       "       0.11      , 0.11      , 0.11      , 0.11      , 0.11      ,\n",
       "       0.11      , 0.11      , 0.11      , 0.11      , 0.11      ,\n",
       "       0.11      , 0.11      , 0.11      , 0.11      , 0.1245    ,\n",
       "       0.139     , 0.1535    , 0.168     , 0.1825    , 0.197     ,\n",
       "       0.2115    , 0.226     , 0.2405    , 0.255     , 0.2695    ,\n",
       "       0.284     , 0.2985    , 0.313     , 0.3275    , 0.342     ,\n",
       "       0.3565    , 0.371     , 0.3855    , 0.4       ])"
      ]
     },
     "execution_count": 16,
     "metadata": {},
     "output_type": "execute_result"
    }
   ],
   "source": [
    "pd_beta"
   ]
  },
  {
   "cell_type": "code",
   "execution_count": 17,
   "metadata": {},
   "outputs": [],
   "source": [
    "SIR=np.array([S0,I0,R0])\n",
    "propagation_rates=pd.DataFrame(columns={'susceptible':S0,\n",
    "                                        'infected':I0,\n",
    "                                        'recoverd':R0})\n",
    "\n",
    "\n",
    "\n",
    "for each_beta in pd_beta:\n",
    "   \n",
    "    new_delta_vec=SIR_model(SIR,each_beta,gamma)\n",
    "   \n",
    "    SIR=SIR+new_delta_vec\n",
    "    \n",
    "    propagation_rates=propagation_rates.append({'susceptible':SIR[0],\n",
    "                                                'infected':SIR[1],\n",
    "                                                'recovered':SIR[2]}, ignore_index=True)"
   ]
  },
  {
   "cell_type": "code",
   "execution_count": 18,
   "metadata": {},
   "outputs": [
    {
     "data": {
      "image/png": "[encoded data removed]",
      "text/plain": [
       "<Figure size 432x288 with 1 Axes>"
      ]
     },
     "metadata": {
      "needs_background": "light"
     },
     "output_type": "display_data"
    }
   ],
   "source": [
    "fig, ax1 = plt.subplots(1, 1)\n",
    "\n",
    "ax1.plot(propagation_rates.index,propagation_rates.infected,label='infected',linewidth=3)\n",
    "\n",
    "t_phases=np.array([t_initial,t_intro_measures,t_hold,t_relax]).cumsum()\n",
    "ax1.bar(np.arange(len(ydata)),ydata, width=0.8,label=' current infected Germany',color='r')\n",
    "ax1.axvspan(0,t_phases[0], facecolor='b', alpha=0.2,label='no measures')\n",
    "ax1.axvspan(t_phases[0],t_phases[1], facecolor='b', alpha=0.3,label='hard measures introduced')\n",
    "ax1.axvspan(t_phases[1],t_phases[2], facecolor='b', alpha=0.4,label='hold measures')\n",
    "ax1.axvspan(t_phases[2],t_phases[3], facecolor='b', alpha=0.5,label='relax measures')\n",
    "ax1.axvspan(t_phases[3],len(propagation_rates.infected), facecolor='b', alpha=0.6,label='repead hard measures')\n",
    "\n",
    "ax1.set_ylim(10, 1.5*max(propagation_rates.infected))\n",
    "ax1.set_yscale('log')\n",
    "ax1.set_title('Scenario SIR simulations  (demonstration purposes only)',size=16)\n",
    "ax1.set_xlabel('time in days',size=16)\n",
    "ax1.legend(loc='best',\n",
    "           prop={'size': 16});"
   ]
  },
  {
   "cell_type": "markdown",
   "metadata": {},
   "source": [
    "# Dynamic Data for whole Data Set"
   ]
  },
  {
   "cell_type": "code",
   "execution_count": null,
   "metadata": {},
   "outputs": [],
   "source": []
  },
  {
   "cell_type": "code",
   "execution_count": 19,
   "metadata": {},
   "outputs": [],
   "source": [
    "data_path='../data/raw/COVID-19/csse_covid_19_data/csse_covid_19_time_series/time_series_covid19_confirmed_global.csv'"
   ]
  },
  {
   "cell_type": "code",
   "execution_count": 20,
   "metadata": {},
   "outputs": [
    {
     "data": {
      "text/html": [
       "<div>\n",
       "<style scoped>\n",
       "    .dataframe tbody tr th:only-of-type {\n",
       "        vertical-align: middle;\n",
       "    }\n",
       "\n",
       "    .dataframe tbody tr th {\n",
       "        vertical-align: top;\n",
       "    }\n",
       "\n",
       "    .dataframe thead th {\n",
       "        text-align: right;\n",
       "    }\n",
       "</style>\n",
       "<table border=\"1\" class=\"dataframe\">\n",
       "  <thead>\n",
       "    <tr style=\"text-align: right;\">\n",
       "      <th></th>\n",
       "      <th>Date</th>\n",
       "      <th>Afghanistan</th>\n",
       "      <th>Albania</th>\n",
       "      <th>Algeria</th>\n",
       "      <th>Andorra</th>\n",
       "      <th>Angola</th>\n",
       "      <th>Antigua and Barbuda</th>\n",
       "      <th>Argentina</th>\n",
       "      <th>Armenia</th>\n",
       "      <th>Australia</th>\n",
       "      <th>...</th>\n",
       "      <th>United Kingdom</th>\n",
       "      <th>Uruguay</th>\n",
       "      <th>Uzbekistan</th>\n",
       "      <th>Venezuela</th>\n",
       "      <th>Vietnam</th>\n",
       "      <th>West Bank and Gaza</th>\n",
       "      <th>Western Sahara</th>\n",
       "      <th>Yemen</th>\n",
       "      <th>Zambia</th>\n",
       "      <th>Zimbabwe</th>\n",
       "    </tr>\n",
       "  </thead>\n",
       "  <tbody>\n",
       "    <tr>\n",
       "      <td>0</td>\n",
       "      <td>1/22/20</td>\n",
       "      <td>0</td>\n",
       "      <td>0</td>\n",
       "      <td>0</td>\n",
       "      <td>0</td>\n",
       "      <td>0</td>\n",
       "      <td>0</td>\n",
       "      <td>0</td>\n",
       "      <td>0</td>\n",
       "      <td>0</td>\n",
       "      <td>...</td>\n",
       "      <td>0</td>\n",
       "      <td>0</td>\n",
       "      <td>0</td>\n",
       "      <td>0</td>\n",
       "      <td>0</td>\n",
       "      <td>0</td>\n",
       "      <td>0</td>\n",
       "      <td>0</td>\n",
       "      <td>0</td>\n",
       "      <td>0</td>\n",
       "    </tr>\n",
       "    <tr>\n",
       "      <td>1</td>\n",
       "      <td>1/23/20</td>\n",
       "      <td>0</td>\n",
       "      <td>0</td>\n",
       "      <td>0</td>\n",
       "      <td>0</td>\n",
       "      <td>0</td>\n",
       "      <td>0</td>\n",
       "      <td>0</td>\n",
       "      <td>0</td>\n",
       "      <td>0</td>\n",
       "      <td>...</td>\n",
       "      <td>0</td>\n",
       "      <td>0</td>\n",
       "      <td>0</td>\n",
       "      <td>0</td>\n",
       "      <td>2</td>\n",
       "      <td>0</td>\n",
       "      <td>0</td>\n",
       "      <td>0</td>\n",
       "      <td>0</td>\n",
       "      <td>0</td>\n",
       "    </tr>\n",
       "    <tr>\n",
       "      <td>2</td>\n",
       "      <td>1/24/20</td>\n",
       "      <td>0</td>\n",
       "      <td>0</td>\n",
       "      <td>0</td>\n",
       "      <td>0</td>\n",
       "      <td>0</td>\n",
       "      <td>0</td>\n",
       "      <td>0</td>\n",
       "      <td>0</td>\n",
       "      <td>0</td>\n",
       "      <td>...</td>\n",
       "      <td>0</td>\n",
       "      <td>0</td>\n",
       "      <td>0</td>\n",
       "      <td>0</td>\n",
       "      <td>2</td>\n",
       "      <td>0</td>\n",
       "      <td>0</td>\n",
       "      <td>0</td>\n",
       "      <td>0</td>\n",
       "      <td>0</td>\n",
       "    </tr>\n",
       "    <tr>\n",
       "      <td>3</td>\n",
       "      <td>1/25/20</td>\n",
       "      <td>0</td>\n",
       "      <td>0</td>\n",
       "      <td>0</td>\n",
       "      <td>0</td>\n",
       "      <td>0</td>\n",
       "      <td>0</td>\n",
       "      <td>0</td>\n",
       "      <td>0</td>\n",
       "      <td>0</td>\n",
       "      <td>...</td>\n",
       "      <td>0</td>\n",
       "      <td>0</td>\n",
       "      <td>0</td>\n",
       "      <td>0</td>\n",
       "      <td>2</td>\n",
       "      <td>0</td>\n",
       "      <td>0</td>\n",
       "      <td>0</td>\n",
       "      <td>0</td>\n",
       "      <td>0</td>\n",
       "    </tr>\n",
       "    <tr>\n",
       "      <td>4</td>\n",
       "      <td>1/26/20</td>\n",
       "      <td>0</td>\n",
       "      <td>0</td>\n",
       "      <td>0</td>\n",
       "      <td>0</td>\n",
       "      <td>0</td>\n",
       "      <td>0</td>\n",
       "      <td>0</td>\n",
       "      <td>0</td>\n",
       "      <td>4</td>\n",
       "      <td>...</td>\n",
       "      <td>0</td>\n",
       "      <td>0</td>\n",
       "      <td>0</td>\n",
       "      <td>0</td>\n",
       "      <td>2</td>\n",
       "      <td>0</td>\n",
       "      <td>0</td>\n",
       "      <td>0</td>\n",
       "      <td>0</td>\n",
       "      <td>0</td>\n",
       "    </tr>\n",
       "  </tbody>\n",
       "</table>\n",
       "<p>5 rows × 189 columns</p>\n",
       "</div>"
      ],
      "text/plain": [
       "      Date  Afghanistan  Albania  Algeria  Andorra  Angola  \\\n",
       "0  1/22/20            0        0        0        0       0   \n",
       "1  1/23/20            0        0        0        0       0   \n",
       "2  1/24/20            0        0        0        0       0   \n",
       "3  1/25/20            0        0        0        0       0   \n",
       "4  1/26/20            0        0        0        0       0   \n",
       "\n",
       "   Antigua and Barbuda  Argentina  Armenia  Australia  ...  United Kingdom  \\\n",
       "0                    0          0        0          0  ...               0   \n",
       "1                    0          0        0          0  ...               0   \n",
       "2                    0          0        0          0  ...               0   \n",
       "3                    0          0        0          0  ...               0   \n",
       "4                    0          0        0          4  ...               0   \n",
       "\n",
       "   Uruguay  Uzbekistan  Venezuela  Vietnam  West Bank and Gaza  \\\n",
       "0        0           0          0        0                   0   \n",
       "1        0           0          0        2                   0   \n",
       "2        0           0          0        2                   0   \n",
       "3        0           0          0        2                   0   \n",
       "4        0           0          0        2                   0   \n",
       "\n",
       "   Western Sahara  Yemen  Zambia  Zimbabwe  \n",
       "0               0      0       0         0  \n",
       "1               0      0       0         0  \n",
       "2               0      0       0         0  \n",
       "3               0      0       0         0  \n",
       "4               0      0       0         0  \n",
       "\n",
       "[5 rows x 189 columns]"
      ]
     },
     "execution_count": 20,
     "metadata": {},
     "output_type": "execute_result"
    }
   ],
   "source": [
    "pd_raw = pd.read_csv(data_path)\n",
    "country_list = pd_raw['Country/Region'].unique()\n",
    "date=pd_raw.columns[4:]\n",
    "df_analyse=pd.DataFrame({'Date':date})\n",
    "\n",
    "for each in country_list:\n",
    "    df_analyse[each] = np.array(pd_raw[pd_raw['Country/Region']==each].iloc[:,4::].sum(axis=0)).T\n",
    "df_analyse.to_csv('../data/raw/COVID-19/csse_covid_19_data/SIR.csv',index=False)\n",
    "\n",
    "df_analyse.sort_values('Date',ascending=True).head()"
   ]
  },
  {
   "cell_type": "code",
   "execution_count": 21,
   "metadata": {},
   "outputs": [
    {
     "name": "stderr",
     "output_type": "stream",
     "text": [
      "E:\\Python2020\\lib\\site-packages\\scipy\\integrate\\odepack.py:247: ODEintWarning: Excess work done on this call (perhaps wrong Dfun type). Run with full_output = 1 to get quantitative information.\n",
      "  warnings.warn(warning_msg, ODEintWarning)\n",
      "E:\\Python2020\\lib\\site-packages\\ipykernel_launcher.py:3: RuntimeWarning: overflow encountered in double_scalars\n",
      "  This is separate from the ipykernel package so we can avoid doing imports until\n",
      "E:\\Python2020\\lib\\site-packages\\ipykernel_launcher.py:4: RuntimeWarning: overflow encountered in double_scalars\n",
      "  after removing the cwd from sys.path.\n",
      "E:\\Python2020\\lib\\site-packages\\ipykernel_launcher.py:5: RuntimeWarning: overflow encountered in double_scalars\n",
      "  \"\"\"\n",
      "E:\\Python2020\\lib\\site-packages\\scipy\\integrate\\odepack.py:247: ODEintWarning: Illegal input detected (internal error). Run with full_output = 1 to get quantitative information.\n",
      "  warnings.warn(warning_msg, ODEintWarning)\n",
      "E:\\Python2020\\lib\\site-packages\\ipykernel_launcher.py:24: SettingWithCopyWarning: \n",
      "A value is trying to be set on a copy of a slice from a DataFrame.\n",
      "Try using .loc[row_indexer,col_indexer] = value instead\n",
      "\n",
      "See the caveats in the documentation: http://pandas.pydata.org/pandas-docs/stable/user_guide/indexing.html#returning-a-view-versus-a-copy\n",
      "E:\\Python2020\\lib\\site-packages\\ipykernel_launcher.py:4: RuntimeWarning: invalid value encountered in double_scalars\n",
      "  after removing the cwd from sys.path.\n"
     ]
    }
   ],
   "source": [
    "# set some basic parameters\n",
    "# beta/gamma is denoted as  'basic reproduction number'\n",
    "\n",
    "N0=1000000 #max susceptible population\n",
    "beta=0.4   # infection spread dynamics\n",
    "gamma=0.1  # recovery rate\n",
    "\n",
    "df_data=df_analyse[35:]\n",
    "t=np.arange(df_data.shape[0])\n",
    "# condition I0+S0+R0=N0\n",
    "\n",
    "R0=0\n",
    "for country in df_data.columns[1:]:\n",
    "    y_data=np.array(df_data[df_data[country]>0][country])\n",
    "    t=np.arange(len(y_data))\n",
    "    I0=y_data[0]\n",
    "    S0=N0-I0\n",
    "    popt=[0.4,0.1]\n",
    "    fit_odeint(t, *popt)\n",
    "    popt, pcov = optimize.curve_fit(fit_odeint, t, y_data, maxfev=5000)\n",
    "    perr = np.sqrt(np.diag(pcov))\n",
    "    fitted=fit_odeint(t, *popt)\n",
    "    fitted_pad = np.concatenate((np.zeros(df_data.shape[0]-len(fitted)) ,fitted))\n",
    "    df_data[country + '_fitted'] = fitted_pad\n",
    "\n",
    "df_data = df_data.reset_index(drop=True)\n",
    "df_data.to_csv('../data/processed/SIR_fitted.csv')\n",
    "    \n",
    "    "
   ]
  },
  {
   "cell_type": "code",
   "execution_count": 22,
   "metadata": {},
   "outputs": [],
   "source": [
    "color_list = []\n",
    "for i in range(200):\n",
    "    var = '#%02x%02x%02x'%(random.randint(0,255),random.randint(0,255),random.randint(0,255))\n",
    "    color_list.append(var)"
   ]
  },
  {
   "cell_type": "code",
   "execution_count": null,
   "metadata": {},
   "outputs": [
    {
     "name": "stdout",
     "output_type": "stream",
     "text": [
      "Dash is running on http://127.0.0.1:8050/\n",
      "\n",
      " Warning: This is a development server. Do not use app.run_server\n",
      " in production, use a production WSGI server like gunicorn instead.\n",
      "\n",
      " * Serving Flask app \"__main__\" (lazy loading)\n",
      " * Environment: production\n",
      "   WARNING: This is a development server. Do not use it in a production deployment.\n",
      "   Use a production WSGI server instead.\n",
      " * Debug mode: on\n"
     ]
    }
   ],
   "source": [
    "\n",
    "# creating dashboard app containig plotting of source and fitted SIR curve data for whole dataset\n",
    "fig = go.Figure()\n",
    "app = dash.Dash()\n",
    "app.layout = html.Div([\n",
    "\n",
    "    dcc.Markdown('''\n",
    "    #  Data Science Project: Dashboard for SIR model\n",
    "    \n",
    "    Following curves can be noticed from the below Dashboard:\n",
    "    \n",
    "    1. First curve represent the infected CORONA positive cases along the timeline.\n",
    "    2. Second curve represnts the infected CORONA positive cases with the help of simulations when SIR model is applied. \n",
    "    \n",
    "    '''),\n",
    "\n",
    "    dcc.Markdown('''\n",
    "    ## Please select the country:\n",
    "    '''),\n",
    "    dcc.Dropdown(\n",
    "        id='country_drop_down',\n",
    "        options=[ {'label': each,'value':each} for each in df_data.columns[1:200]],\n",
    "        value=['Germany','India'], # which are pre-selected\n",
    "        multi=True),\n",
    "    dcc.Dropdown(\n",
    "        id='SIR',\n",
    "        options=[{'label': 'Infected','value':'infected'},],\n",
    "        value='confirmed',\n",
    "        multi=False),\n",
    "    dcc.Graph(figure=fig, id='main_window_slope')])\n",
    "\n",
    "\n",
    "@app.callback(\n",
    "    Output('main_window_slope', 'figure'),\n",
    "    [Input('country_drop_down', 'value')])\n",
    "def update_figure(country_list):\n",
    "    v = 0\n",
    "    my_yaxis={'type':\"log\",'title':'Infected people'}\n",
    "    traces = []\n",
    "    for each in country_list:\n",
    "        traces.append(dict(x=df_data['Date'],y=df_data[each],\n",
    "                                mode='line', line = dict(color = color_list[v]), opacity=1.0,name=each))\n",
    "        traces.append(dict(x=df_data['Date'],\n",
    "                                y=df_data[each+'_fitted'],\n",
    "                                mode='markers',line = dict(color=color_list[v]), opacity=1.0,name=each+'_simulated'))\n",
    "\n",
    "        v = v+1\n",
    "    return {\n",
    "            'data': traces,\n",
    "            'layout': dict (\n",
    "                width=1280,height=720,\n",
    "                xaxis={'title':'Timeline','tickangle':-45,'nticks':20,\n",
    "                'tickfont':dict(size=14,color=\"#0c6887\"),},yaxis=my_yaxis)}\n",
    "\n",
    "if __name__ == '__main__':\n",
    "    app.run_server(debug=True, use_reloader=False)"
   ]
  },
  {
   "cell_type": "code",
   "execution_count": null,
   "metadata": {},
   "outputs": [],
   "source": []
  },
  {
   "cell_type": "code",
   "execution_count": null,
   "metadata": {},
   "outputs": [],
   "source": []
  }
 ],
 "metadata": {
  "kernelspec": {
   "display_name": "Python 3",
   "language": "python",
   "name": "python3"
  },
  "language_info": {
   "codemirror_mode": {
    "name": "ipython",
    "version": 3
   },
   "file_extension": ".py",
   "mimetype": "text/x-python",
   "name": "python",
   "nbconvert_exporter": "python",
   "pygments_lexer": "ipython3",
   "version": "3.7.4"
  }
 },
 "nbformat": 4,
 "nbformat_minor": 4
}
